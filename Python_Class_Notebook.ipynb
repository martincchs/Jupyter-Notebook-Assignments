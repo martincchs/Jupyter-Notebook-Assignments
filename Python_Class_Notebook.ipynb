{
  "nbformat": 4,
  "nbformat_minor": 0,
  "metadata": {
    "colab": {
      "name": "Python Class Notebook",
      "provenance": [],
      "collapsed_sections": [],
      "authorship_tag": "ABX9TyNw4lM7g6CzGmno3hU3yP1d",
      "include_colab_link": true
    },
    "kernelspec": {
      "name": "python3",
      "display_name": "Python 3"
    }
  },
  "cells": [
    {
      "cell_type": "markdown",
      "metadata": {
        "id": "view-in-github",
        "colab_type": "text"
      },
      "source": [
        "<a href=\"https://colab.research.google.com/github/martincchs/Jupyter-Notebook-Assignments/blob/MartinTesting/Python_Class_Notebook.ipynb\" target=\"_parent\"><img src=\"https://colab.research.google.com/assets/colab-badge.svg\" alt=\"Open In Colab\"/></a>"
      ]
    },
    {
      "cell_type": "markdown",
      "metadata": {
        "id": "pncdLQzML0I1"
      },
      "source": [
        "### This is a Jupyter Notebook Hosted by Google's Colab project. "
      ]
    },
    {
      "cell_type": "markdown",
      "metadata": {
        "id": "SriUOgSWMIIn"
      },
      "source": [
        "It can include text cells and code cells.\r\n",
        "This is where I will ask you to take notes for my class and complete many assignments.\r\n",
        "\r\n",
        "One of the main advantages to writing notes here is that you will be able to have notes and code that you can actually run side by side. "
      ]
    },
    {
      "cell_type": "code",
      "metadata": {
        "colab": {
          "base_uri": "https://localhost:8080/"
        },
        "id": "7AXx9uDCLpoa",
        "outputId": "f161c79a-4a33-48d5-cf37-23fa33414950"
      },
      "source": [
        "#This is an example of a code cell. The # denotes that this line is a comment and shouldn't actually be run. \r\n",
        "print (\"But this is actual code and will be run when I click the \\\"play\\\"/run button\")\r\n"
      ],
      "execution_count": 1,
      "outputs": [
        {
          "output_type": "stream",
          "text": [
            "But this is actual code and will be run when I click the \"play\"/run button\n"
          ],
          "name": "stdout"
        }
      ]
    },
    {
      "cell_type": "markdown",
      "metadata": {
        "id": "_yId_cXON4iC"
      },
      "source": [
        "Above you see a simple example of a print() statement in python. This statement prints whatever is put in between the parenthesis. Take a few minutes and play around with it in the code block below. Change it's input. Make it print numbers, words, sentences etc. See if you can get it to do basic math problems. What issues did you encounter? What errors? What did you learn?\r\n",
        "\r\n",
        "Use this space to answer the questions above:"
      ]
    },
    {
      "cell_type": "code",
      "metadata": {
        "id": "I4PiIf00Nsr0"
      },
      "source": [
        "print()"
      ],
      "execution_count": null,
      "outputs": []
    }
  ]
}