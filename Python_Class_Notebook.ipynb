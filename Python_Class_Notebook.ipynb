{
  "nbformat": 4,
  "nbformat_minor": 0,
  "metadata": {
    "colab": {
      "name": "Python Class Notebook",
      "provenance": [],
      "collapsed_sections": [],
      "authorship_tag": "ABX9TyPmnOpCPl+D7VvA7SXqWqTR",
      "include_colab_link": true
    },
    "kernelspec": {
      "name": "python3",
      "display_name": "Python 3"
    }
  },
  "cells": [
    {
      "cell_type": "markdown",
      "metadata": {
        "id": "view-in-github",
        "colab_type": "text"
      },
      "source": [
        "<a href=\"https://colab.research.google.com/github/martincchs/Jupyter-Notebook-Assignments/blob/main/Python_Class_Notebook.ipynb\" target=\"_parent\"><img src=\"https://colab.research.google.com/assets/colab-badge.svg\" alt=\"Open In Colab\"/></a>"
      ]
    },
    {
      "cell_type": "markdown",
      "metadata": {
        "id": "pncdLQzML0I1"
      },
      "source": [
        "### This is a Jupyter Notebook Hosted by Google's Colab project. "
      ]
    },
    {
      "cell_type": "markdown",
      "metadata": {
        "id": "SriUOgSWMIIn"
      },
      "source": [
        "It can include text cells and code cells.\r\n",
        "This is where I will ask you to take notes for my class and complete many assignments. "
      ]
    },
    {
      "cell_type": "code",
      "metadata": {
        "id": "7AXx9uDCLpoa"
      },
      "source": [
        ""
      ],
      "execution_count": null,
      "outputs": []
    }
  ]
}